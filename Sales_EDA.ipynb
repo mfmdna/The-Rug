{
 "cells": [
  {
   "cell_type": "markdown",
   "id": "706d281d",
   "metadata": {},
   "source": [
    "# Sales Data Exploratory Data Analysis"
   ]
  },
  {
   "cell_type": "markdown",
   "id": "d5062e71",
   "metadata": {},
   "source": [
    "## Table of Contents:\n",
    "* [Goal](#goal)\n",
    "* [Dataset](#dataset)\n",
    "    * [Importing the Libraries](#import)\n",
    "    * [Reading and Viewing the Dataset](#reading)\n",
    "    * [Dropping Redundant Columns](#drop)\n",
    "    * [Rearranging and Renaming Columns ](#rename)\n",
    "    * [Detecting Missing Values](#missing)\n",
    "    * [Dropping Duplicate Values](#duplicates)\n",
    "    * [Preprocessing Rows and Columns](#preprocessing)\n",
    "* [Conclusion](#conc)"
   ]
  },
  {
   "cell_type": "markdown",
   "id": "1d65db07",
   "metadata": {},
   "source": [
    "***"
   ]
  },
  {
   "cell_type": "markdown",
   "id": "fb0ff5cd",
   "metadata": {},
   "source": [
    "## Goal <a class=\"anchor\" id=\"goal\"></a>"
   ]
  },
  {
   "cell_type": "markdown",
   "id": "2d47d414",
   "metadata": {},
   "source": [
    "We are going to be performing Exploratory Data Analysis on the Sales Data to determine characteristics and have a better understanding of the said data."
   ]
  },
  {
   "cell_type": "markdown",
   "id": "09148725",
   "metadata": {},
   "source": [
    "***"
   ]
  },
  {
   "cell_type": "markdown",
   "id": "feaf44d1",
   "metadata": {},
   "source": [
    "## Dataset<a class=\"anchor\" id=\"dataset\"></a>"
   ]
  },
  {
   "cell_type": "markdown",
   "id": "e4ff4ecb",
   "metadata": {},
   "source": [
    "### Importing Necessary Libraries<a class=\"anchor\" id=\"import\"></a>"
   ]
  },
  {
   "cell_type": "code",
   "execution_count": 1,
   "id": "37d0fd84-ca0d-4a35-9150-a13064944a9c",
   "metadata": {},
   "outputs": [],
   "source": [
    "import numpy as np\n",
    "import pandas as pd\n",
    "\n",
    "import matplotlib.pyplot as plt\n",
    "import seaborn as sns\n",
    "\n",
    "import warnings\n",
    "warnings.filterwarnings(\"ignore\")\n",
    "warnings.warn(\"thisnwill not show\")"
   ]
  },
  {
   "cell_type": "markdown",
   "id": "2c0de5f6",
   "metadata": {},
   "source": [
    "### Reading and Viewing the Dataset <a class=\"anchor\" id=\"reading\"></a>"
   ]
  },
  {
   "cell_type": "code",
   "execution_count": 2,
   "id": "fb8f6dcd-954c-400d-98d5-3f0385bd8c22",
   "metadata": {},
   "outputs": [],
   "source": [
    "df = pd.read_excel(\"Satislar_last.xlsx\")"
   ]
  },
  {
   "cell_type": "code",
   "execution_count": 3,
   "id": "a027ffa4",
   "metadata": {},
   "outputs": [
    {
     "data": {
      "text/plain": [
       "(190031, 31)"
      ]
     },
     "execution_count": 3,
     "metadata": {},
     "output_type": "execute_result"
    }
   ],
   "source": [
    "df.shape"
   ]
  },
  {
   "cell_type": "code",
   "execution_count": 4,
   "id": "4ae13070",
   "metadata": {
    "scrolled": false
   },
   "outputs": [
    {
     "data": {
      "text/html": [
       "<div>\n",
       "<style scoped>\n",
       "    .dataframe tbody tr th:only-of-type {\n",
       "        vertical-align: middle;\n",
       "    }\n",
       "\n",
       "    .dataframe tbody tr th {\n",
       "        vertical-align: top;\n",
       "    }\n",
       "\n",
       "    .dataframe thead th {\n",
       "        text-align: right;\n",
       "    }\n",
       "</style>\n",
       "<table border=\"1\" class=\"dataframe\">\n",
       "  <thead>\n",
       "    <tr style=\"text-align: right;\">\n",
       "      <th></th>\n",
       "      <th>nOrderId</th>\n",
       "      <th>Company</th>\n",
       "      <th>Customer ID</th>\n",
       "      <th>cPostCode</th>\n",
       "      <th>Received_Day</th>\n",
       "      <th>Received_Month</th>\n",
       "      <th>Received_Year</th>\n",
       "      <th>Received_Date</th>\n",
       "      <th>Received_Time</th>\n",
       "      <th>Country</th>\n",
       "      <th>...</th>\n",
       "      <th>Total</th>\n",
       "      <th>OrderItemSKU</th>\n",
       "      <th>OrderItemTitle</th>\n",
       "      <th>ItemCategory</th>\n",
       "      <th>OrderItemQuantity</th>\n",
       "      <th>DispatchStockUnitCost</th>\n",
       "      <th>TotalWeight</th>\n",
       "      <th>PurchasePrice</th>\n",
       "      <th>TrackingNumber</th>\n",
       "      <th>PostalService</th>\n",
       "    </tr>\n",
       "  </thead>\n",
       "  <tbody>\n",
       "    <tr>\n",
       "      <th>0</th>\n",
       "      <td>102878.0</td>\n",
       "      <td>Redacted</td>\n",
       "      <td>C0000001</td>\n",
       "      <td>Redacted</td>\n",
       "      <td>13.0</td>\n",
       "      <td>6.0</td>\n",
       "      <td>2020.0</td>\n",
       "      <td>2020-06-13</td>\n",
       "      <td>15:05:00</td>\n",
       "      <td>Italy</td>\n",
       "      <td>...</td>\n",
       "      <td>33.760000</td>\n",
       "      <td>49472-my</td>\n",
       "      <td>Mynes Home UK - Tappeto piccolo e grande per s...</td>\n",
       "      <td>Default</td>\n",
       "      <td>1.0</td>\n",
       "      <td>0.0</td>\n",
       "      <td>0.0</td>\n",
       "      <td>0.0</td>\n",
       "      <td>1510000000000</td>\n",
       "      <td>2-5 Business Day</td>\n",
       "    </tr>\n",
       "    <tr>\n",
       "      <th>1</th>\n",
       "      <td>NaN</td>\n",
       "      <td>NaN</td>\n",
       "      <td>NaN</td>\n",
       "      <td>NaN</td>\n",
       "      <td>NaN</td>\n",
       "      <td>NaN</td>\n",
       "      <td>NaN</td>\n",
       "      <td>NaT</td>\n",
       "      <td>NaN</td>\n",
       "      <td>NaN</td>\n",
       "      <td>...</td>\n",
       "      <td>NaN</td>\n",
       "      <td>NaN</td>\n",
       "      <td>NaN</td>\n",
       "      <td>NaN</td>\n",
       "      <td>NaN</td>\n",
       "      <td>NaN</td>\n",
       "      <td>NaN</td>\n",
       "      <td>NaN</td>\n",
       "      <td>NaN</td>\n",
       "      <td>NaN</td>\n",
       "    </tr>\n",
       "    <tr>\n",
       "      <th>2</th>\n",
       "      <td>109559.0</td>\n",
       "      <td>NaN</td>\n",
       "      <td>C0000002</td>\n",
       "      <td>OL13 8BT</td>\n",
       "      <td>14.0</td>\n",
       "      <td>12.0</td>\n",
       "      <td>2020.0</td>\n",
       "      <td>2020-12-14</td>\n",
       "      <td>08:12:00</td>\n",
       "      <td>United Kingdom</td>\n",
       "      <td>...</td>\n",
       "      <td>49.800001</td>\n",
       "      <td>2414</td>\n",
       "      <td>Soft Shaggy Collection Machine Washable in Gre...</td>\n",
       "      <td>Default</td>\n",
       "      <td>1.0</td>\n",
       "      <td>0.0</td>\n",
       "      <td>2.0</td>\n",
       "      <td>0.0</td>\n",
       "      <td>PM205128211GB</td>\n",
       "      <td>Royal Mail Tracked 48</td>\n",
       "    </tr>\n",
       "    <tr>\n",
       "      <th>3</th>\n",
       "      <td>NaN</td>\n",
       "      <td>NaN</td>\n",
       "      <td>NaN</td>\n",
       "      <td>NaN</td>\n",
       "      <td>NaN</td>\n",
       "      <td>NaN</td>\n",
       "      <td>NaN</td>\n",
       "      <td>NaT</td>\n",
       "      <td>NaN</td>\n",
       "      <td>NaN</td>\n",
       "      <td>...</td>\n",
       "      <td>NaN</td>\n",
       "      <td>NaN</td>\n",
       "      <td>NaN</td>\n",
       "      <td>NaN</td>\n",
       "      <td>NaN</td>\n",
       "      <td>NaN</td>\n",
       "      <td>NaN</td>\n",
       "      <td>NaN</td>\n",
       "      <td>NaN</td>\n",
       "      <td>NaN</td>\n",
       "    </tr>\n",
       "    <tr>\n",
       "      <th>4</th>\n",
       "      <td>108651.0</td>\n",
       "      <td>Redacted</td>\n",
       "      <td>C0000001</td>\n",
       "      <td>Redacted</td>\n",
       "      <td>28.0</td>\n",
       "      <td>11.0</td>\n",
       "      <td>2020.0</td>\n",
       "      <td>2020-11-28</td>\n",
       "      <td>13:15:00</td>\n",
       "      <td>Germany</td>\n",
       "      <td>...</td>\n",
       "      <td>55.440000</td>\n",
       "      <td>2185</td>\n",
       "      <td>THE RUGS Kurzflor Modern Teppich Wohnzimmer We...</td>\n",
       "      <td>Default</td>\n",
       "      <td>1.0</td>\n",
       "      <td>0.0</td>\n",
       "      <td>0.0</td>\n",
       "      <td>0.0</td>\n",
       "      <td>1510000000000</td>\n",
       "      <td>2-5 Business Day</td>\n",
       "    </tr>\n",
       "  </tbody>\n",
       "</table>\n",
       "<p>5 rows × 31 columns</p>\n",
       "</div>"
      ],
      "text/plain": [
       "   nOrderId   Company Customer ID cPostCode  Received_Day  Received_Month  \\\n",
       "0  102878.0  Redacted    C0000001  Redacted          13.0             6.0   \n",
       "1       NaN       NaN         NaN       NaN           NaN             NaN   \n",
       "2  109559.0       NaN    C0000002  OL13 8BT          14.0            12.0   \n",
       "3       NaN       NaN         NaN       NaN           NaN             NaN   \n",
       "4  108651.0  Redacted    C0000001  Redacted          28.0            11.0   \n",
       "\n",
       "   Received_Year Received_Date Received_Time         Country  ...      Total  \\\n",
       "0         2020.0    2020-06-13      15:05:00           Italy  ...  33.760000   \n",
       "1            NaN           NaT           NaN             NaN  ...        NaN   \n",
       "2         2020.0    2020-12-14      08:12:00  United Kingdom  ...  49.800001   \n",
       "3            NaN           NaT           NaN             NaN  ...        NaN   \n",
       "4         2020.0    2020-11-28      13:15:00         Germany  ...  55.440000   \n",
       "\n",
       "   OrderItemSKU                                     OrderItemTitle  \\\n",
       "0      49472-my  Mynes Home UK - Tappeto piccolo e grande per s...   \n",
       "1           NaN                                                NaN   \n",
       "2          2414  Soft Shaggy Collection Machine Washable in Gre...   \n",
       "3           NaN                                                NaN   \n",
       "4          2185  THE RUGS Kurzflor Modern Teppich Wohnzimmer We...   \n",
       "\n",
       "   ItemCategory  OrderItemQuantity DispatchStockUnitCost TotalWeight  \\\n",
       "0       Default                1.0                   0.0         0.0   \n",
       "1           NaN                NaN                   NaN         NaN   \n",
       "2       Default                1.0                   0.0         2.0   \n",
       "3           NaN                NaN                   NaN         NaN   \n",
       "4       Default                1.0                   0.0         0.0   \n",
       "\n",
       "  PurchasePrice TrackingNumber          PostalService  \n",
       "0           0.0  1510000000000       2-5 Business Day  \n",
       "1           NaN            NaN                    NaN  \n",
       "2           0.0  PM205128211GB  Royal Mail Tracked 48  \n",
       "3           NaN            NaN                    NaN  \n",
       "4           0.0  1510000000000       2-5 Business Day  \n",
       "\n",
       "[5 rows x 31 columns]"
      ]
     },
     "execution_count": 4,
     "metadata": {},
     "output_type": "execute_result"
    }
   ],
   "source": [
    "df.head()"
   ]
  },
  {
   "cell_type": "markdown",
   "id": "1ba7c12c",
   "metadata": {},
   "source": [
    "### Dropping Redundant Columns<a class=\"anchor\" id=\"drop\"></a>"
   ]
  },
  {
   "cell_type": "code",
   "execution_count": 5,
   "id": "61e20e16",
   "metadata": {},
   "outputs": [],
   "source": [
    "df = df.drop([\"Company\",\n",
    "              \"TrackingNumber\",\n",
    "              \"Processed\",\n",
    "              \"TotalWeight\",\n",
    "              \"DispatchStockUnitCost\"], axis = 1)\n",
    "                                                          # dropping redundant columns"
   ]
  },
  {
   "cell_type": "markdown",
   "id": "f97a0f6f",
   "metadata": {},
   "source": [
    "### Rearranging and Renaming Columns<a class=\"anchor\" id=\"rename\"></a>"
   ]
  },
  {
   "cell_type": "code",
   "execution_count": 6,
   "id": "888a9dc7",
   "metadata": {
    "scrolled": true
   },
   "outputs": [
    {
     "data": {
      "text/plain": [
       "Index(['nOrderId', 'Customer ID', 'cPostCode', 'Received_Day',\n",
       "       'Received_Month', 'Received_Year', 'Received_Date', 'Received_Time',\n",
       "       'Country', 'status', 'ProcessedDay', 'ProcessedMonth', 'ProcessedYear',\n",
       "       'ProcessedDate', 'ProcessedTime', 'Source', 'Currency', 'Subtotal',\n",
       "       'Tax', 'Total', 'OrderItemSKU', 'OrderItemTitle', 'ItemCategory',\n",
       "       'OrderItemQuantity', 'PurchasePrice', 'PostalService'],\n",
       "      dtype='object')"
      ]
     },
     "execution_count": 6,
     "metadata": {},
     "output_type": "execute_result"
    }
   ],
   "source": [
    "df.columns                                                # checking column names"
   ]
  },
  {
   "cell_type": "code",
   "execution_count": 7,
   "id": "65572207",
   "metadata": {},
   "outputs": [],
   "source": [
    "df.rename(columns={\"nOrderId\" : \"OrderId\",\n",
    "                   \"Customer ID\" : \"CustomerID\",\n",
    "                   \"cPostCode\" : \"Post_Code\",\n",
    "                   \"dReceievedDate\" : \"ReceivedDate\",\n",
    "                   }, inplace=True)                       # renaming columns"
   ]
  },
  {
   "cell_type": "markdown",
   "id": "e5ebbe37",
   "metadata": {},
   "source": [
    "### Detecting Missing Values<a class=\"anchor\" id=\"missing\"></a>"
   ]
  },
  {
   "cell_type": "code",
   "execution_count": 8,
   "id": "18e027b5-790c-4279-864d-7db8a8925fce",
   "metadata": {
    "scrolled": false
   },
   "outputs": [
    {
     "data": {
      "text/plain": [
       "OrderId              49.99974\n",
       "CustomerID           50.02131\n",
       "Post_Code            50.02289\n",
       "Received_Day         49.99974\n",
       "Received_Month       49.99974\n",
       "Received_Year        49.99974\n",
       "Received_Date        49.99974\n",
       "Received_Time        49.99974\n",
       "Country              49.99974\n",
       "status               49.99974\n",
       "ProcessedDay         51.82260\n",
       "ProcessedMonth       51.82260\n",
       "ProcessedYear        51.82260\n",
       "ProcessedDate        51.82260\n",
       "ProcessedTime        51.82260\n",
       "Source               49.99974\n",
       "Currency             49.99974\n",
       "Subtotal             49.99974\n",
       "Tax                  49.99974\n",
       "Total                49.99974\n",
       "OrderItemSKU         49.99974\n",
       "OrderItemTitle       49.99974\n",
       "ItemCategory         49.99974\n",
       "OrderItemQuantity    49.99974\n",
       "PurchasePrice        49.99974\n",
       "PostalService        49.99974\n",
       "dtype: float64"
      ]
     },
     "execution_count": 8,
     "metadata": {},
     "output_type": "execute_result"
    }
   ],
   "source": [
    "round((df.isna().sum() / \n",
    "       df.shape[0] * 100), 5)                             # checking the missing value ratio"
   ]
  },
  {
   "cell_type": "markdown",
   "id": "e0bd15fe",
   "metadata": {},
   "source": [
    "### Dropping Duplicates <a class=\"anchor\" id=\"duplicates\"></a>"
   ]
  },
  {
   "cell_type": "code",
   "execution_count": 9,
   "id": "3d740560-8aa1-4c73-9d11-f3ddb57ec516",
   "metadata": {},
   "outputs": [
    {
     "data": {
      "text/plain": [
       "True     95115\n",
       "False    94916\n",
       "dtype: int64"
      ]
     },
     "execution_count": 9,
     "metadata": {},
     "output_type": "execute_result"
    }
   ],
   "source": [
    "df.duplicated().value_counts()                                 # checking duplicate values"
   ]
  },
  {
   "cell_type": "code",
   "execution_count": 10,
   "id": "e9630b65-9fc5-441c-84df-abd2137ccbf7",
   "metadata": {},
   "outputs": [],
   "source": [
    "df.drop_duplicates(inplace=True)                               # dropping duplicates"
   ]
  },
  {
   "cell_type": "code",
   "execution_count": 11,
   "id": "b2dd8541",
   "metadata": {},
   "outputs": [],
   "source": [
    "df.drop(df.index[1], inplace=True)                             # dropping the original nan row"
   ]
  },
  {
   "cell_type": "code",
   "execution_count": 12,
   "id": "da7a4dcd-6324-4d5c-8c1b-afcc1189ea80",
   "metadata": {},
   "outputs": [],
   "source": [
    "df = df.sort_values(by = \"OrderId\")\n",
    "\n",
    "df.reset_index(drop=True, inplace=True)                        # resetting the index and sorting by OrderId"
   ]
  },
  {
   "cell_type": "markdown",
   "id": "71bf9d39",
   "metadata": {},
   "source": [
    "### Preprocessing Rows and Columns <a class=\"anchor\" id=\"preprocessing\"></a>"
   ]
  },
  {
   "cell_type": "code",
   "execution_count": 13,
   "id": "7fbc32eb",
   "metadata": {},
   "outputs": [],
   "source": [
    "df['ReceivedDate'] = df['Received_Day'].astype(dtype='int32').astype(str) + '-' + df['Received_Month'].astype(dtype='int32').astype(str) + '-' + df['Received_Year'].astype(dtype='int32').astype(str)"
   ]
  },
  {
   "cell_type": "code",
   "execution_count": 14,
   "id": "3900c044",
   "metadata": {},
   "outputs": [],
   "source": [
    "df['ReceivedDate'] = pd.to_datetime(df['ReceivedDate'], dayfirst=True)"
   ]
  },
  {
   "cell_type": "code",
   "execution_count": 15,
   "id": "d93bf61c",
   "metadata": {},
   "outputs": [],
   "source": [
    "df.drop(['Received_Day',\n",
    "         'Received_Month',\n",
    "         'Received_Year'], axis=1, inplace=True)"
   ]
  },
  {
   "cell_type": "code",
   "execution_count": 16,
   "id": "7284ded8",
   "metadata": {},
   "outputs": [],
   "source": [
    "df[\"ReceivedDate_year\"] = df.ReceivedDate.dt.year\n",
    "\n",
    "df[\"ReceivedDate_month\"] = df.ReceivedDate.dt.month\n",
    "\n",
    "df[\"ReceivedDate_day\"] = df.ReceivedDate.dt.day\n",
    "\n",
    "df[\"ReceivedDate_hour\"] = df.ReceivedDate.dt.hour   # extracting date information into new columns"
   ]
  },
  {
   "cell_type": "markdown",
   "id": "bb772bdd",
   "metadata": {},
   "source": [
    "***"
   ]
  },
  {
   "cell_type": "code",
   "execution_count": 17,
   "id": "8bb43bfd",
   "metadata": {},
   "outputs": [],
   "source": [
    "df.OrderItemQuantity = df.OrderItemQuantity.astype(\"int32\")    # changing the data type of the OrderItemQuantity column"
   ]
  },
  {
   "cell_type": "markdown",
   "id": "e512a2a1",
   "metadata": {},
   "source": [
    "***"
   ]
  },
  {
   "cell_type": "code",
   "execution_count": 18,
   "id": "ed800807-8bef-41e1-8cf9-2a6174d0178d",
   "metadata": {},
   "outputs": [],
   "source": [
    "df[\"AdjustedTotal\"] = df.apply(lambda row: row[\"Total\"]*0.9 if \"EUR\" in row[\"Currency\"] else \n",
    "                               (row[\"Total\"]*0.19 if 'PLN' in row[\"Currency\"] else (\n",
    "                               row[\"Total\"]*0.19 if 'SEK' in row[\"Currency\"] else row[\"Total\"])), axis=1)\n",
    "                                                    # creating a column by adjusting values in Total column by Currency column"
   ]
  },
  {
   "cell_type": "code",
   "execution_count": 19,
   "id": "7b6fab86-7c07-4de5-8bc4-ea152d2cfc76",
   "metadata": {},
   "outputs": [
    {
     "data": {
      "text/html": [
       "<div>\n",
       "<style scoped>\n",
       "    .dataframe tbody tr th:only-of-type {\n",
       "        vertical-align: middle;\n",
       "    }\n",
       "\n",
       "    .dataframe tbody tr th {\n",
       "        vertical-align: top;\n",
       "    }\n",
       "\n",
       "    .dataframe thead th {\n",
       "        text-align: right;\n",
       "    }\n",
       "</style>\n",
       "<table border=\"1\" class=\"dataframe\">\n",
       "  <thead>\n",
       "    <tr style=\"text-align: right;\">\n",
       "      <th></th>\n",
       "      <th>min</th>\n",
       "      <th>max</th>\n",
       "      <th>mean</th>\n",
       "    </tr>\n",
       "    <tr>\n",
       "      <th>Currency</th>\n",
       "      <th></th>\n",
       "      <th></th>\n",
       "      <th></th>\n",
       "    </tr>\n",
       "  </thead>\n",
       "  <tbody>\n",
       "    <tr>\n",
       "      <th>EUR</th>\n",
       "      <td>25.4790</td>\n",
       "      <td>234.612000</td>\n",
       "      <td>68.762169</td>\n",
       "    </tr>\n",
       "    <tr>\n",
       "      <th>GBP</th>\n",
       "      <td>0.0000</td>\n",
       "      <td>879.200012</td>\n",
       "      <td>52.573652</td>\n",
       "    </tr>\n",
       "    <tr>\n",
       "      <th>PLN</th>\n",
       "      <td>58.3300</td>\n",
       "      <td>58.330000</td>\n",
       "      <td>58.330000</td>\n",
       "    </tr>\n",
       "    <tr>\n",
       "      <th>SEK</th>\n",
       "      <td>335.0783</td>\n",
       "      <td>604.507800</td>\n",
       "      <td>495.351280</td>\n",
       "    </tr>\n",
       "    <tr>\n",
       "      <th>UNK</th>\n",
       "      <td>0.0000</td>\n",
       "      <td>0.000000</td>\n",
       "      <td>0.000000</td>\n",
       "    </tr>\n",
       "  </tbody>\n",
       "</table>\n",
       "</div>"
      ],
      "text/plain": [
       "               min         max        mean\n",
       "Currency                                  \n",
       "EUR        25.4790  234.612000   68.762169\n",
       "GBP         0.0000  879.200012   52.573652\n",
       "PLN        58.3300   58.330000   58.330000\n",
       "SEK       335.0783  604.507800  495.351280\n",
       "UNK         0.0000    0.000000    0.000000"
      ]
     },
     "execution_count": 19,
     "metadata": {},
     "output_type": "execute_result"
    }
   ],
   "source": [
    "df.groupby([\"Currency\"]).AdjustedTotal.agg([\"min\", \"max\", \"mean\"])\n",
    "                                                    # displaying the AdjustedTotal column"
   ]
  },
  {
   "cell_type": "markdown",
   "id": "edb022b3",
   "metadata": {},
   "source": [
    "***"
   ]
  },
  {
   "cell_type": "code",
   "execution_count": 20,
   "id": "8eae8939-374f-4e91-a635-7665762f7d26",
   "metadata": {},
   "outputs": [],
   "source": [
    "\"\"\"We were provided with a new file for the missing values in the PurchasePrice column.\"\"\"\n",
    "\n",
    "\n",
    "purc = pd.read_excel(\"PurchasePriceZero.xlsx\")               # reading the file"
   ]
  },
  {
   "cell_type": "code",
   "execution_count": 21,
   "id": "8074e165-90d0-4557-b6d8-14c61dd3087e",
   "metadata": {},
   "outputs": [],
   "source": [
    "purc.rename(columns={\"nOrderId\":\"OrderId\"}, inplace=True)    # renaming the orderID column so that it matches the original data"
   ]
  },
  {
   "cell_type": "code",
   "execution_count": 22,
   "id": "41ccb556-d112-4556-82d9-df84db8de10e",
   "metadata": {},
   "outputs": [
    {
     "data": {
      "text/plain": [
       "False    94915\n",
       "Name: PurchasePrice, dtype: int64"
      ]
     },
     "execution_count": 22,
     "metadata": {},
     "output_type": "execute_result"
    }
   ],
   "source": [
    "for i, row in df.iterrows():\n",
    "    if row['PurchasePrice'] == 0:\n",
    "        new_price = purc[purc['OrderId'] == row['OrderId']]['PurchasePrice'].values[0]\n",
    "        df.loc[i, 'PurchasePrice'] = new_price\n",
    "(df.PurchasePrice==0).value_counts()                         # assigning new values to our original dataset"
   ]
  },
  {
   "cell_type": "code",
   "execution_count": 23,
   "id": "b3ba99a0-9b6a-4cd7-a501-d5e4dd719d34",
   "metadata": {
    "scrolled": false
   },
   "outputs": [
    {
     "data": {
      "text/plain": [
       "1.000000      763\n",
       "1.110375      244\n",
       "1.220000        2\n",
       "1.250000        2\n",
       "1.830000       88\n",
       "             ... \n",
       "155.000000      7\n",
       "165.000000     20\n",
       "185.000000      1\n",
       "205.000000      1\n",
       "255.000000      8\n",
       "Name: PurchasePrice, Length: 140, dtype: int64"
      ]
     },
     "execution_count": 23,
     "metadata": {},
     "output_type": "execute_result"
    }
   ],
   "source": [
    "df.PurchasePrice.value_counts(dropna=False).sort_index()     # checking the new values"
   ]
  },
  {
   "cell_type": "markdown",
   "id": "cd8beb7f",
   "metadata": {},
   "source": [
    "***"
   ]
  },
  {
   "cell_type": "code",
   "execution_count": 24,
   "id": "066a5b6d",
   "metadata": {},
   "outputs": [],
   "source": [
    "df['Profit'] = df['Subtotal'] - df['PurchasePrice']           # calculating the profit"
   ]
  },
  {
   "cell_type": "markdown",
   "id": "36a09552",
   "metadata": {},
   "source": [
    "## Conclusion <a class=\"anchor\" id=\"conc\"></a>"
   ]
  },
  {
   "cell_type": "markdown",
   "id": "e9ecb404",
   "metadata": {},
   "source": [
    "We, as a team, went over every single feature throughtout our Exploratory Data Analysis. We cleaned, adjusted and organized the data. It is now ready for further analyses."
   ]
  },
  {
   "cell_type": "code",
   "execution_count": 25,
   "id": "c6dc8466",
   "metadata": {
    "scrolled": false
   },
   "outputs": [
    {
     "data": {
      "text/html": [
       "<div>\n",
       "<style scoped>\n",
       "    .dataframe tbody tr th:only-of-type {\n",
       "        vertical-align: middle;\n",
       "    }\n",
       "\n",
       "    .dataframe tbody tr th {\n",
       "        vertical-align: top;\n",
       "    }\n",
       "\n",
       "    .dataframe thead th {\n",
       "        text-align: right;\n",
       "    }\n",
       "</style>\n",
       "<table border=\"1\" class=\"dataframe\">\n",
       "  <thead>\n",
       "    <tr style=\"text-align: right;\">\n",
       "      <th></th>\n",
       "      <th>OrderId</th>\n",
       "      <th>CustomerID</th>\n",
       "      <th>Post_Code</th>\n",
       "      <th>Received_Date</th>\n",
       "      <th>Received_Time</th>\n",
       "      <th>Country</th>\n",
       "      <th>status</th>\n",
       "      <th>ProcessedDay</th>\n",
       "      <th>ProcessedMonth</th>\n",
       "      <th>ProcessedYear</th>\n",
       "      <th>...</th>\n",
       "      <th>OrderItemQuantity</th>\n",
       "      <th>PurchasePrice</th>\n",
       "      <th>PostalService</th>\n",
       "      <th>ReceivedDate</th>\n",
       "      <th>ReceivedDate_year</th>\n",
       "      <th>ReceivedDate_month</th>\n",
       "      <th>ReceivedDate_day</th>\n",
       "      <th>ReceivedDate_hour</th>\n",
       "      <th>AdjustedTotal</th>\n",
       "      <th>Profit</th>\n",
       "    </tr>\n",
       "  </thead>\n",
       "  <tbody>\n",
       "    <tr>\n",
       "      <th>0</th>\n",
       "      <td>100003.0</td>\n",
       "      <td>C0000001</td>\n",
       "      <td>Redacted</td>\n",
       "      <td>2019-12-11</td>\n",
       "      <td>18:58:00</td>\n",
       "      <td>United Kingdom</td>\n",
       "      <td>PAID</td>\n",
       "      <td>14.0</td>\n",
       "      <td>12.0</td>\n",
       "      <td>2019.0</td>\n",
       "      <td>...</td>\n",
       "      <td>1</td>\n",
       "      <td>15.09</td>\n",
       "      <td>Default</td>\n",
       "      <td>2019-12-11</td>\n",
       "      <td>2019</td>\n",
       "      <td>12</td>\n",
       "      <td>11</td>\n",
       "      <td>0</td>\n",
       "      <td>49.90</td>\n",
       "      <td>34.810000</td>\n",
       "    </tr>\n",
       "    <tr>\n",
       "      <th>1</th>\n",
       "      <td>100004.0</td>\n",
       "      <td>C0000001</td>\n",
       "      <td>Redacted</td>\n",
       "      <td>2019-12-11</td>\n",
       "      <td>23:50:00</td>\n",
       "      <td>United Kingdom</td>\n",
       "      <td>PAID</td>\n",
       "      <td>12.0</td>\n",
       "      <td>12.0</td>\n",
       "      <td>2019.0</td>\n",
       "      <td>...</td>\n",
       "      <td>1</td>\n",
       "      <td>8.36</td>\n",
       "      <td>Default</td>\n",
       "      <td>2019-12-11</td>\n",
       "      <td>2019</td>\n",
       "      <td>12</td>\n",
       "      <td>11</td>\n",
       "      <td>0</td>\n",
       "      <td>39.90</td>\n",
       "      <td>31.540000</td>\n",
       "    </tr>\n",
       "    <tr>\n",
       "      <th>2</th>\n",
       "      <td>100005.0</td>\n",
       "      <td>C0000001</td>\n",
       "      <td>Redacted</td>\n",
       "      <td>2019-12-11</td>\n",
       "      <td>21:13:00</td>\n",
       "      <td>United Kingdom</td>\n",
       "      <td>PAID</td>\n",
       "      <td>12.0</td>\n",
       "      <td>12.0</td>\n",
       "      <td>2019.0</td>\n",
       "      <td>...</td>\n",
       "      <td>1</td>\n",
       "      <td>23.20</td>\n",
       "      <td>Default</td>\n",
       "      <td>2019-12-11</td>\n",
       "      <td>2019</td>\n",
       "      <td>12</td>\n",
       "      <td>11</td>\n",
       "      <td>0</td>\n",
       "      <td>79.90</td>\n",
       "      <td>56.700000</td>\n",
       "    </tr>\n",
       "    <tr>\n",
       "      <th>3</th>\n",
       "      <td>100006.0</td>\n",
       "      <td>C0000001</td>\n",
       "      <td>Redacted</td>\n",
       "      <td>2019-12-11</td>\n",
       "      <td>17:57:00</td>\n",
       "      <td>United Kingdom</td>\n",
       "      <td>PAID</td>\n",
       "      <td>13.0</td>\n",
       "      <td>12.0</td>\n",
       "      <td>2019.0</td>\n",
       "      <td>...</td>\n",
       "      <td>1</td>\n",
       "      <td>8.36</td>\n",
       "      <td>Default</td>\n",
       "      <td>2019-12-11</td>\n",
       "      <td>2019</td>\n",
       "      <td>12</td>\n",
       "      <td>11</td>\n",
       "      <td>0</td>\n",
       "      <td>39.90</td>\n",
       "      <td>31.540000</td>\n",
       "    </tr>\n",
       "    <tr>\n",
       "      <th>4</th>\n",
       "      <td>100007.0</td>\n",
       "      <td>C0005444</td>\n",
       "      <td>HP13 6JT</td>\n",
       "      <td>2019-12-11</td>\n",
       "      <td>18:16:00</td>\n",
       "      <td>United Kingdom</td>\n",
       "      <td>PAID</td>\n",
       "      <td>14.0</td>\n",
       "      <td>12.0</td>\n",
       "      <td>2019.0</td>\n",
       "      <td>...</td>\n",
       "      <td>1</td>\n",
       "      <td>15.00</td>\n",
       "      <td>Default</td>\n",
       "      <td>2019-12-11</td>\n",
       "      <td>2019</td>\n",
       "      <td>12</td>\n",
       "      <td>11</td>\n",
       "      <td>0</td>\n",
       "      <td>54.90</td>\n",
       "      <td>39.900000</td>\n",
       "    </tr>\n",
       "    <tr>\n",
       "      <th>...</th>\n",
       "      <td>...</td>\n",
       "      <td>...</td>\n",
       "      <td>...</td>\n",
       "      <td>...</td>\n",
       "      <td>...</td>\n",
       "      <td>...</td>\n",
       "      <td>...</td>\n",
       "      <td>...</td>\n",
       "      <td>...</td>\n",
       "      <td>...</td>\n",
       "      <td>...</td>\n",
       "      <td>...</td>\n",
       "      <td>...</td>\n",
       "      <td>...</td>\n",
       "      <td>...</td>\n",
       "      <td>...</td>\n",
       "      <td>...</td>\n",
       "      <td>...</td>\n",
       "      <td>...</td>\n",
       "      <td>...</td>\n",
       "      <td>...</td>\n",
       "    </tr>\n",
       "    <tr>\n",
       "      <th>94910</th>\n",
       "      <td>192213.0</td>\n",
       "      <td>C0001333</td>\n",
       "      <td>SW2 5TN</td>\n",
       "      <td>2022-12-05</td>\n",
       "      <td>09:28:00</td>\n",
       "      <td>United Kingdom</td>\n",
       "      <td>PAID</td>\n",
       "      <td>NaN</td>\n",
       "      <td>NaN</td>\n",
       "      <td>NaN</td>\n",
       "      <td>...</td>\n",
       "      <td>2</td>\n",
       "      <td>3.00</td>\n",
       "      <td>New DHL - Next Day (Medium)</td>\n",
       "      <td>2022-12-05</td>\n",
       "      <td>2022</td>\n",
       "      <td>12</td>\n",
       "      <td>5</td>\n",
       "      <td>0</td>\n",
       "      <td>29.98</td>\n",
       "      <td>21.983333</td>\n",
       "    </tr>\n",
       "    <tr>\n",
       "      <th>94911</th>\n",
       "      <td>192214.0</td>\n",
       "      <td>NaN</td>\n",
       "      <td>NaN</td>\n",
       "      <td>2022-12-05</td>\n",
       "      <td>09:33:00</td>\n",
       "      <td>UNKNOWN</td>\n",
       "      <td>UNPAID</td>\n",
       "      <td>NaN</td>\n",
       "      <td>NaN</td>\n",
       "      <td>NaN</td>\n",
       "      <td>...</td>\n",
       "      <td>1</td>\n",
       "      <td>6.00</td>\n",
       "      <td>Default</td>\n",
       "      <td>2022-12-05</td>\n",
       "      <td>2022</td>\n",
       "      <td>12</td>\n",
       "      <td>5</td>\n",
       "      <td>0</td>\n",
       "      <td>0.00</td>\n",
       "      <td>-6.000000</td>\n",
       "    </tr>\n",
       "    <tr>\n",
       "      <th>94912</th>\n",
       "      <td>192215.0</td>\n",
       "      <td>NaN</td>\n",
       "      <td>NaN</td>\n",
       "      <td>2022-12-05</td>\n",
       "      <td>09:46:00</td>\n",
       "      <td>UNKNOWN</td>\n",
       "      <td>UNPAID</td>\n",
       "      <td>NaN</td>\n",
       "      <td>NaN</td>\n",
       "      <td>NaN</td>\n",
       "      <td>...</td>\n",
       "      <td>1</td>\n",
       "      <td>10.00</td>\n",
       "      <td>Default</td>\n",
       "      <td>2022-12-05</td>\n",
       "      <td>2022</td>\n",
       "      <td>12</td>\n",
       "      <td>5</td>\n",
       "      <td>0</td>\n",
       "      <td>33.99</td>\n",
       "      <td>18.325000</td>\n",
       "    </tr>\n",
       "    <tr>\n",
       "      <th>94913</th>\n",
       "      <td>192216.0</td>\n",
       "      <td>NaN</td>\n",
       "      <td>NaN</td>\n",
       "      <td>2022-12-05</td>\n",
       "      <td>09:41:00</td>\n",
       "      <td>UNKNOWN</td>\n",
       "      <td>UNPAID</td>\n",
       "      <td>NaN</td>\n",
       "      <td>NaN</td>\n",
       "      <td>NaN</td>\n",
       "      <td>...</td>\n",
       "      <td>1</td>\n",
       "      <td>18.00</td>\n",
       "      <td>Default</td>\n",
       "      <td>2022-12-05</td>\n",
       "      <td>2022</td>\n",
       "      <td>12</td>\n",
       "      <td>5</td>\n",
       "      <td>0</td>\n",
       "      <td>93.41</td>\n",
       "      <td>59.841667</td>\n",
       "    </tr>\n",
       "    <tr>\n",
       "      <th>94914</th>\n",
       "      <td>192217.0</td>\n",
       "      <td>NaN</td>\n",
       "      <td>NaN</td>\n",
       "      <td>2022-12-05</td>\n",
       "      <td>09:51:00</td>\n",
       "      <td>UNKNOWN</td>\n",
       "      <td>UNPAID</td>\n",
       "      <td>NaN</td>\n",
       "      <td>NaN</td>\n",
       "      <td>NaN</td>\n",
       "      <td>...</td>\n",
       "      <td>1</td>\n",
       "      <td>2.00</td>\n",
       "      <td>Default</td>\n",
       "      <td>2022-12-05</td>\n",
       "      <td>2022</td>\n",
       "      <td>12</td>\n",
       "      <td>5</td>\n",
       "      <td>0</td>\n",
       "      <td>9.99</td>\n",
       "      <td>6.325000</td>\n",
       "    </tr>\n",
       "  </tbody>\n",
       "</table>\n",
       "<p>94915 rows × 30 columns</p>\n",
       "</div>"
      ],
      "text/plain": [
       "        OrderId CustomerID Post_Code Received_Date Received_Time  \\\n",
       "0      100003.0   C0000001  Redacted    2019-12-11      18:58:00   \n",
       "1      100004.0   C0000001  Redacted    2019-12-11      23:50:00   \n",
       "2      100005.0   C0000001  Redacted    2019-12-11      21:13:00   \n",
       "3      100006.0   C0000001  Redacted    2019-12-11      17:57:00   \n",
       "4      100007.0   C0005444  HP13 6JT    2019-12-11      18:16:00   \n",
       "...         ...        ...       ...           ...           ...   \n",
       "94910  192213.0   C0001333   SW2 5TN    2022-12-05      09:28:00   \n",
       "94911  192214.0        NaN       NaN    2022-12-05      09:33:00   \n",
       "94912  192215.0        NaN       NaN    2022-12-05      09:46:00   \n",
       "94913  192216.0        NaN       NaN    2022-12-05      09:41:00   \n",
       "94914  192217.0        NaN       NaN    2022-12-05      09:51:00   \n",
       "\n",
       "              Country  status  ProcessedDay  ProcessedMonth  ProcessedYear  \\\n",
       "0      United Kingdom    PAID          14.0            12.0         2019.0   \n",
       "1      United Kingdom    PAID          12.0            12.0         2019.0   \n",
       "2      United Kingdom    PAID          12.0            12.0         2019.0   \n",
       "3      United Kingdom    PAID          13.0            12.0         2019.0   \n",
       "4      United Kingdom    PAID          14.0            12.0         2019.0   \n",
       "...               ...     ...           ...             ...            ...   \n",
       "94910  United Kingdom    PAID           NaN             NaN            NaN   \n",
       "94911         UNKNOWN  UNPAID           NaN             NaN            NaN   \n",
       "94912         UNKNOWN  UNPAID           NaN             NaN            NaN   \n",
       "94913         UNKNOWN  UNPAID           NaN             NaN            NaN   \n",
       "94914         UNKNOWN  UNPAID           NaN             NaN            NaN   \n",
       "\n",
       "       ... OrderItemQuantity PurchasePrice                PostalService  \\\n",
       "0      ...                 1         15.09                      Default   \n",
       "1      ...                 1          8.36                      Default   \n",
       "2      ...                 1         23.20                      Default   \n",
       "3      ...                 1          8.36                      Default   \n",
       "4      ...                 1         15.00                      Default   \n",
       "...    ...               ...           ...                          ...   \n",
       "94910  ...                 2          3.00  New DHL - Next Day (Medium)   \n",
       "94911  ...                 1          6.00                      Default   \n",
       "94912  ...                 1         10.00                      Default   \n",
       "94913  ...                 1         18.00                      Default   \n",
       "94914  ...                 1          2.00                      Default   \n",
       "\n",
       "      ReceivedDate  ReceivedDate_year  ReceivedDate_month  ReceivedDate_day  \\\n",
       "0       2019-12-11               2019                  12                11   \n",
       "1       2019-12-11               2019                  12                11   \n",
       "2       2019-12-11               2019                  12                11   \n",
       "3       2019-12-11               2019                  12                11   \n",
       "4       2019-12-11               2019                  12                11   \n",
       "...            ...                ...                 ...               ...   \n",
       "94910   2022-12-05               2022                  12                 5   \n",
       "94911   2022-12-05               2022                  12                 5   \n",
       "94912   2022-12-05               2022                  12                 5   \n",
       "94913   2022-12-05               2022                  12                 5   \n",
       "94914   2022-12-05               2022                  12                 5   \n",
       "\n",
       "      ReceivedDate_hour AdjustedTotal     Profit  \n",
       "0                     0         49.90  34.810000  \n",
       "1                     0         39.90  31.540000  \n",
       "2                     0         79.90  56.700000  \n",
       "3                     0         39.90  31.540000  \n",
       "4                     0         54.90  39.900000  \n",
       "...                 ...           ...        ...  \n",
       "94910                 0         29.98  21.983333  \n",
       "94911                 0          0.00  -6.000000  \n",
       "94912                 0         33.99  18.325000  \n",
       "94913                 0         93.41  59.841667  \n",
       "94914                 0          9.99   6.325000  \n",
       "\n",
       "[94915 rows x 30 columns]"
      ]
     },
     "execution_count": 25,
     "metadata": {},
     "output_type": "execute_result"
    }
   ],
   "source": [
    "df"
   ]
  }
 ],
 "metadata": {
  "kernelspec": {
   "display_name": "Python 3 (ipykernel)",
   "language": "python",
   "name": "python3"
  },
  "language_info": {
   "codemirror_mode": {
    "name": "ipython",
    "version": 3
   },
   "file_extension": ".py",
   "mimetype": "text/x-python",
   "name": "python",
   "nbconvert_exporter": "python",
   "pygments_lexer": "ipython3",
   "version": "3.10.4"
  }
 },
 "nbformat": 4,
 "nbformat_minor": 5
}
