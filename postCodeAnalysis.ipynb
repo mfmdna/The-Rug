{
 "cells": [
  {
   "cell_type": "markdown",
   "id": "3164dac8-343b-416f-933f-862b82f98a70",
   "metadata": {},
   "source": [
    "## Postal code Analisys"
   ]
  },
  {
   "cell_type": "markdown",
   "id": "ba4bb43d-e2bb-4884-bbe3-5343885fe7db",
   "metadata": {},
   "source": [
    "#### Satislar dosyası düzenlemeler"
   ]
  },
  {
   "cell_type": "code",
   "execution_count": 1,
   "id": "37d0fd84-ca0d-4a35-9150-a13064944a9c",
   "metadata": {},
   "outputs": [],
   "source": [
    "import pandas as pd\n",
    "import numpy as np\n",
    "import matplotlib.pyplot as plt\n",
    "import seaborn as sns\n",
    "import os\n",
    "import matplotlib.pyplot as plt\n",
    "\n",
    "import warnings\n",
    "warnings.filterwarnings(\"ignore\")\n",
    "warnings.warn(\"thisnwill not show\")"
   ]
  },
  {
   "cell_type": "code",
   "execution_count": 2,
   "id": "d991e3c1-0584-4198-9344-8bc6b7afa3b7",
   "metadata": {},
   "outputs": [],
   "source": [
    "# Satışlar datasını df olarak atıyoruz.\n",
    "df = pd.read_excel(r\"C:\\Users\\Admin\\Desktop\\EDA The Rug\\orjinal datalar\\Satislar.xlsx\")"
   ]
  },
  {
   "cell_type": "code",
   "execution_count": 3,
   "id": "b01d1a99-8a94-42ae-be6a-b599eebb8a9f",
   "metadata": {},
   "outputs": [],
   "source": [
    "# ortak satırlardaki Nan değerleri siliyoruz.\n",
    "df.dropna(subset = \"cPostCode\", inplace=True)"
   ]
  },
  {
   "cell_type": "code",
   "execution_count": 4,
   "id": "2b5f1612-46f3-4f72-9d01-fc0add3751bd",
   "metadata": {},
   "outputs": [
    {
     "data": {
      "text/plain": [
       "False    94871\n",
       "True       101\n",
       "dtype: int64"
      ]
     },
     "execution_count": 4,
     "metadata": {},
     "output_type": "execute_result"
    }
   ],
   "source": [
    "# duplicated valueları belirleyip siliyoruz.\n",
    "df.duplicated().value_counts()"
   ]
  },
  {
   "cell_type": "code",
   "execution_count": 5,
   "id": "2377fb3e-723a-42bb-98e6-c683b5a1a65e",
   "metadata": {},
   "outputs": [],
   "source": [
    "df.drop_duplicates(inplace=True)      "
   ]
  },
  {
   "cell_type": "code",
   "execution_count": 6,
   "id": "d7d18d4d-169d-4946-b934-6617571e4bb7",
   "metadata": {},
   "outputs": [],
   "source": [
    "# posta kodları ve ülke isimlerinden oluşan yeni dataframe i oluşturuyoruz.\n",
    "satislar_pcode = pd.DataFrame(df[[\"cPostCode\", \"Country\"]])"
   ]
  },
  {
   "cell_type": "code",
   "execution_count": 7,
   "id": "3ba99a98-ec29-4891-b855-72eddbe9bd08",
   "metadata": {},
   "outputs": [],
   "source": [
    "# Sütun isimlerini coğrafi özelliklerin olduğu data ile birleştirmek için sütun ismini değiştiriyoruz.\n",
    "satislar_pcode.rename(columns ={\"cPostCode\": \"Postcode\"}, inplace = True)"
   ]
  },
  {
   "cell_type": "code",
   "execution_count": 8,
   "id": "d1f9d62d-ea32-407f-a83b-e19bdc20e71d",
   "metadata": {},
   "outputs": [],
   "source": [
    "# posta kodu sütununda Redacted yazan satırları siliyoruz.\n",
    "satislar_pcode = satislar_pcode[satislar_pcode.Postcode != \"Redacted\"]"
   ]
  },
  {
   "cell_type": "code",
   "execution_count": 9,
   "id": "be1ec177-8d63-4226-9f96-24fbae47fee3",
   "metadata": {
    "tags": []
   },
   "outputs": [
    {
     "data": {
      "text/plain": [
       "Country\n",
       "Austria               2\n",
       "France                1\n",
       "Germany              62\n",
       "Ireland              42\n",
       "Netherlands           3\n",
       "Romania               2\n",
       "United Kingdom    39086\n",
       "United States         1\n",
       "Name: Postcode, dtype: int64"
      ]
     },
     "execution_count": 9,
     "metadata": {},
     "output_type": "execute_result"
    }
   ],
   "source": [
    "# Datamızda UK dışında dikkate alınacak bir satış olmadığı için bu ülkelerin posta kodlarını datamızdan çıkarıyoruz.\n",
    "satislar_pcode.groupby(\"Country\").Postcode.count()"
   ]
  },
  {
   "cell_type": "code",
   "execution_count": 10,
   "id": "7d920fb1-a187-4d75-b850-5afdf4e89a18",
   "metadata": {},
   "outputs": [],
   "source": [
    "satislar_pcode = satislar_pcode[satislar_pcode.Country == \"United Kingdom\"]"
   ]
  },
  {
   "cell_type": "code",
   "execution_count": 11,
   "id": "41f4ffd5-62ba-4894-9f13-7ce18e5c48eb",
   "metadata": {},
   "outputs": [
    {
     "data": {
      "text/plain": [
       "Country\n",
       "United Kingdom    39086\n",
       "Name: Postcode, dtype: int64"
      ]
     },
     "execution_count": 11,
     "metadata": {},
     "output_type": "execute_result"
    }
   ],
   "source": [
    "satislar_pcode.groupby(\"Country\").Postcode.count()"
   ]
  },
  {
   "cell_type": "code",
   "execution_count": 12,
   "id": "a313425e-69ec-460e-ab63-80523abccc58",
   "metadata": {},
   "outputs": [],
   "source": [
    "# Posta kodları eşleşmelerinde daha fazla başarı elde edebilmek için bizm datamızdaki küçük harfle yazılmış posta kodlarını büyük harfe çeviriyoruz.\n",
    "satislar_pcode[\"Postcode\"]= satislar_pcode.apply((lambda x: x[\"Postcode\"].upper() if \"United Kingdom\" in x[\"Country\"] else x[\"Postcode\"]), axis=1)"
   ]
  },
  {
   "cell_type": "code",
   "execution_count": 13,
   "id": "06366ab2-4176-4f53-a5c8-2b410a40c14e",
   "metadata": {},
   "outputs": [
    {
     "data": {
      "text/plain": [
       "2657"
      ]
     },
     "execution_count": 13,
     "metadata": {},
     "output_type": "execute_result"
    }
   ],
   "source": [
    "(satislar_pcode['Postcode'].str.contains(' ') == False).sum() \n",
    "# Posta kodlarında son 3 basamaktan önce boşluk olması gerekiyor eğer bu boşluk yoksa hatalı oluyor.\n",
    "# Burada da görüldüğü üzere 2657 adet posta kodu boşluksuz olarak yazılmış."
   ]
  },
  {
   "cell_type": "code",
   "execution_count": 14,
   "id": "59408106-206e-4534-b411-668e40a7e385",
   "metadata": {},
   "outputs": [],
   "source": [
    "# Posta kodlarındaki bütün boşlukları kaldırıp daha sonra olması gerektiği gibi -4.indexe boşluk atıyoruz.\n",
    "satislar_pcode.Postcode = satislar_pcode.Postcode.str.replace(\" \", \"\")"
   ]
  },
  {
   "cell_type": "code",
   "execution_count": 15,
   "id": "b04559bf-b9c1-45db-9ede-0ebb763ae0cf",
   "metadata": {},
   "outputs": [
    {
     "data": {
      "text/plain": [
       "39086"
      ]
     },
     "execution_count": 15,
     "metadata": {},
     "output_type": "execute_result"
    }
   ],
   "source": [
    "(satislar_pcode['Postcode'].str.contains(' ') == False).sum()"
   ]
  },
  {
   "cell_type": "code",
   "execution_count": 16,
   "id": "8e6c5ab8-9e0d-4963-af67-df3c7546dd60",
   "metadata": {},
   "outputs": [],
   "source": [
    "# Şimdi bütün datamızı olması gerektiği formata sokuyoruz.\n",
    "mask = satislar_pcode['Postcode'].str.contains(' ') == False\n",
    "satislar_pcode.loc[mask, 'Postcode'] = satislar_pcode.loc[mask, 'Postcode'].str.slice(0, -3) + ' ' + satislar_pcode.loc[mask, 'Postcode'].str.slice(-3)"
   ]
  },
  {
   "cell_type": "code",
   "execution_count": 17,
   "id": "42b376e5-c78e-47c8-9e57-288385674341",
   "metadata": {},
   "outputs": [
    {
     "data": {
      "text/plain": [
       "0"
      ]
     },
     "execution_count": 17,
     "metadata": {},
     "output_type": "execute_result"
    }
   ],
   "source": [
    "(satislar_pcode['Postcode'].str.contains(' ') == False).sum()"
   ]
  },
  {
   "cell_type": "code",
   "execution_count": 18,
   "id": "b3173076-6307-4eb8-93b7-f6384e756b00",
   "metadata": {},
   "outputs": [
    {
     "data": {
      "text/plain": [
       "2         OL13 8BT\n",
       "28         DA1 5WW\n",
       "30          W3 6TD\n",
       "32        BD23 2NP\n",
       "34        NE13 7FJ\n",
       "            ...   \n",
       "190022    BH15 4NF\n",
       "190024    DA13 9EF\n",
       "190026    EX24 6RY\n",
       "190028     CV6 4BU\n",
       "190030    DE22 2FJ\n",
       "Name: Postcode, Length: 39086, dtype: object"
      ]
     },
     "execution_count": 18,
     "metadata": {},
     "output_type": "execute_result"
    }
   ],
   "source": [
    "satislar_pcode.Postcode"
   ]
  },
  {
   "cell_type": "code",
   "execution_count": 20,
   "id": "33460384-b309-49a8-8dbd-3b8b89b19bc1",
   "metadata": {},
   "outputs": [],
   "source": [
    "# Bizim datamızda Country UK olarak geçiyor ancak diğer datadı daha detaylı yani England, wales gibi. Dolayısıyla birleştirme işlemi için Country sütununa \n",
    "# ihtiyaç olmayacak.\n",
    "\n",
    "satislar_pcode.drop(\"Country\", axis = 1 , inplace=True)"
   ]
  },
  {
   "cell_type": "markdown",
   "id": "db5f29f9-1b14-4c00-b833-0e669be32f42",
   "metadata": {},
   "source": [
    "#### Ingilerenin posta kodlarına göre çeşitli bilgiler içeren veri"
   ]
  },
  {
   "cell_type": "markdown",
   "id": "b3a7691a-3128-4ee8-8980-8fcf10b2708d",
   "metadata": {
    "tags": []
   },
   "source": [
    "## Postcode CSV fields\n",
    "####This page describes the meaning of the columns in the CSVs files available on the postcode downloads page. The main postcode CSV file contains the columns described below. Other CSV downloads generally contain a subset of these columns\n",
    "\n",
    "* ``Postcode``\tThe Postcode that is the subject of this row in the format as it would be used in an address i.e. SE1 2AB\n",
    "* ``In Use?``\tYes/No Flag to indicate that this Postcode is currently in use. Refer to columns [Introduced] and [Terminated] for further information\n",
    "* ``Latitude``\tLatitude of centroid of the Postcode for this row in decimal format i.e. 51.50205\n",
    "* ``Longitude``\tLongitude of centroid of the Postcode for this row in decimal format. i.e -0.07864. Negative values are those to the West of the zero (Greenwich) meridian\n",
    "* ``Easting``\tCo-ordinate of the East-West plane on the British National Grid. Reference\n",
    "* ``Northing``\tCo-ordinate of the North-South plane on the British National Grid\n",
    "* ``Grid Ref``\tOrdnance Survey grid reference in format xxnnnnnn i.e. TQ365751. Reference\n",
    "* ``County``\tName of the Ceremonial County that this Postcode sits within. Some of these counties map directly to County Councils. Part of the hierarchy of: County->District->Ward\n",
    "* ``District``\tName of the Local authority district (LAD)/unitary authority (UA)/ metropolitan district (MD)/ London borough (LB)/ council area (CA)/district council area (DCA) that this Postcode sits within. Part of the hierarchy of: County->District->Ward\n",
    "* ``Ward``\tName of the local authority Ward that this Postcode sits within. Part of the hierarchy of: County->District->Ward\n",
    "* ``District`` Code\tCode of the District that this Postcode sits within. Part of the hierarchy of: County->District->Ward\n",
    "* ``Ward Code``\tCode of the Ward that this Postcode sits within. Part of the hierarchy of: County->District->Ward\n",
    "* ``Country``\tName of the Country that this Postcode sits within. Values are: England, Scotland, Wales, Northern Ireland\n",
    "* ``County Code``\tCode of the County that this Postcode sits within. Part of the hierarchy of: County->District->Ward\n",
    "* ``Constituency``\tName of the Paliamentary Constituency that this Postcode sits within\n",
    "* ``Introduced``\tDate that this Postcode was introduced\n",
    "* ``Terminated``\tDate that this Postcode was withdrawn from use (empty when the postcode is still in use)\n",
    "* ``Parish``\tName of the Parish this this Postcode sits within. n.b Not all areas are designated a Parish\n",
    "* ``National Park``\tName of the National Park that this Postcode sits within, where applicable\n",
    "* ``Population``\tPopulation of the area covered by the Postcode (from the 2011 census)\n",
    "* ``Households``\tNumber of Households in the area covered by the Postcode (from the 2011 census)\n",
    "* ``Built up area``\tName of the built-up area this postcode is part of\n",
    "* ``Built up sub-division``\tName of the built-up area sub-division this postcode is part of\n",
    "* ``Lower layer super output area``\tName of the Lower Layer Super Output Area (MSOA) that this Postcode sits within. Refer to: [LSOA Code]\n",
    "* ``Rural/urban``\tDescription of the area covered by the Postcode i.e. Urban major conurbation, Remote small town, Urban city and town etc.\n",
    "* ``Region``\tBroad region of the UK i.e. London, South West, West Midlands, Yorkshire and The Humber etc. Used as ITL/NUTS level 1\n",
    "* ``Altitude``\tHeight above sea level measured in Metres\n",
    "* ``London zone``\tTransport for London (TfL) Travel Zone indicator (London area only)\n",
    "* ``LSOA Code``\tCode for the Lower Layer Super Output Area (LSOA) that this Postcode sits within. Reference\n",
    "* ``Local`` authority\tCounty Council area that this Postcode sits within. For Unitary Authorties, London etc this value will not be populated. Reference\n",
    "* ``MSOA Code Code for the Middle Layer`` Super Output Area (MSOA) that this Postcode sits within. Reference\n",
    "* ``Middle layer super output area``\tName of the Middle Layer Super Output Area (MSOA) that this Postcode sits within. Refer to: [MSOA Code]\n",
    "* ``Parish Code``\tCode of the Parish that this Postcode sits within. n.b Not all areas are designated a Parish. e.g. E43000213\n",
    "* ``Census output area``\tCode for the Census Output Area e.g. E00016581\n",
    "* ``Constituency Code``\tCode of the Paliamentary Constituency that this Postcode sits within. e.g. E14000789\n",
    "* ``Index of Multiple Deprivation``\tThe deprivation rank for the postcode, where 1 is the most deprived. The range of values is as follows\n",
    "    - 1 - 32844 = England\n",
    "    - 1 - 1909 = Wales\n",
    "    - 1 - 6976 = Scotland\n",
    "    - 1 - 890 = Northern Ireland\n",
    "* ``Quality``\tA Data Quality Flag for the current row. Values are as follows:\n",
    "    - 1 = within the building of the matched address closest to the postcode mean.\n",
    "    - 2 = as for status value 1, except by visual inspection of Landline maps (Scotland only).\n",
    "    - 3 = approximate to within 50 metres.\n",
    "    - 4 = postcode unit mean (mean of matched addresses with the same postcode, but not snapped to a building).\n",
    "    - 5 = imputed by ONS, by reference to surrounding postcode grid references.\n",
    "    - 6 = postcode sector mean, (mainly PO Boxes).\n",
    "    - 7 = deliberately left blank\n",
    "    - 8 = postcode terminated prior to Gridlink initiative, last known ONS postcode grid reference.\n",
    "    - 9 = no grid reference available.\n",
    "* ``User Type``\tShows whether the postcode is a small or large user.\n",
    "    - 0 = small user (addresses receive less than 25 items of mail per day)\n",
    "    - 1 = large user (addresses receive more than 25 items of mail per day)\n",
    "* ``Last Updated``\tThe date the data for this postcode was last updated. The data is refreshed every 3 months when the ONS release the postcode directory\n",
    "* ``Nearest station``\tThe nearest train station to the postcode. For London, also includes Underground and tram stops\n",
    "* ``Distance to station``\tThe distance in kilometres to the nearest station from the postcode\n",
    "* ``Postcode area``\tThe area of the postcode (e.g. KT)\n",
    "* ``Postcode district``\tThe district of the the postcode (e.g. KT1)\n",
    "* ``Police force``\tThe name of the police force responsible for this postcode\n",
    "* ``Water company``\tThe name of the water company responsible for this postcode\n",
    "* ``Plus Code``\tPlus Code of the postcode\n",
    "* ``Average income``\tAverage household income of the MSOA that the postcode is located in\n",
    "* ``Sewage company``\tIf the sewage company is different from the water company, this column will contain the name of the sewage company\n",
    "* ``Travel to work area``\tThe area in which the bulk of the population work\n",
    "* ``ITL level 2``\tITL (formerly NUTS) is a system of geograhical sub-divisions defined by the EU. There are 3 levels, the Region column defines level 1. ITL is the post-Brexit name, although the regions currently remain the same\n",
    "* ``ITL level 3``\tAs above\n",
    "* ``UPRNs``\tComma separated list of Unique Property Reference Numbers within the postcode\n",
    "* ``Distance to sea``\tThe approximate distance from this postcode to the sea in kilometres\n"
   ]
  },
  {
   "cell_type": "code",
   "execution_count": 21,
   "id": "375e2650-16ac-40a5-8429-0b94ee306a88",
   "metadata": {},
   "outputs": [],
   "source": [
    "post_uk = pd.read_csv(\"postcodes.csv\")"
   ]
  },
  {
   "cell_type": "code",
   "execution_count": 22,
   "id": "710f4dd1-7d52-416d-a6bf-6f2b903c10f4",
   "metadata": {
    "tags": []
   },
   "outputs": [
    {
     "name": "stdout",
     "output_type": "stream",
     "text": [
      "<class 'pandas.core.frame.DataFrame'>\n",
      "RangeIndex: 2670704 entries, 0 to 2670703\n",
      "Data columns (total 53 columns):\n",
      " #   Column                          Dtype  \n",
      "---  ------                          -----  \n",
      " 0   Postcode                        object \n",
      " 1   In Use?                         object \n",
      " 2   Latitude                        float64\n",
      " 3   Longitude                       float64\n",
      " 4   Easting                         float64\n",
      " 5   Northing                        float64\n",
      " 6   Grid Ref                        object \n",
      " 7   County                          object \n",
      " 8   District                        object \n",
      " 9   Ward                            object \n",
      " 10  District Code                   object \n",
      " 11  Ward Code                       object \n",
      " 12  Country                         object \n",
      " 13  County Code                     object \n",
      " 14  Constituency                    object \n",
      " 15  Introduced                      object \n",
      " 16  Terminated                      object \n",
      " 17  Parish                          object \n",
      " 18  National Park                   object \n",
      " 19  Population                      float64\n",
      " 20  Households                      float64\n",
      " 21  Built up area                   object \n",
      " 22  Built up sub-division           object \n",
      " 23  Lower layer super output area   object \n",
      " 24  Rural/urban                     object \n",
      " 25  Region                          object \n",
      " 26  Altitude                        float64\n",
      " 27  London zone                     float64\n",
      " 28  LSOA Code                       object \n",
      " 29  Local authority                 object \n",
      " 30  MSOA Code                       object \n",
      " 31  Middle layer super output area  object \n",
      " 32  Parish Code                     object \n",
      " 33  Census output area              object \n",
      " 34  Constituency Code               object \n",
      " 35  Index of Multiple Deprivation   float64\n",
      " 36  Quality                         float64\n",
      " 37  User Type                       float64\n",
      " 38  Last updated                    object \n",
      " 39  Nearest station                 object \n",
      " 40  Distance to station             float64\n",
      " 41  Postcode area                   object \n",
      " 42  Postcode district               object \n",
      " 43  Police force                    object \n",
      " 44  Water company                   object \n",
      " 45  Plus Code                       object \n",
      " 46  Average Income                  float64\n",
      " 47  Sewage Company                  object \n",
      " 48  Travel To Work Area             object \n",
      " 49  ITL level 2                     object \n",
      " 50  ITL level 3                     object \n",
      " 51  UPRNs                           object \n",
      " 52  Distance to sea                 float64\n",
      "dtypes: float64(14), object(39)\n",
      "memory usage: 1.1+ GB\n"
     ]
    }
   ],
   "source": [
    "post_uk.info()"
   ]
  },
  {
   "cell_type": "code",
   "execution_count": 23,
   "id": "233cd642-60c5-40f3-8abe-2b6d00d88055",
   "metadata": {},
   "outputs": [],
   "source": [
    "# Data da bizim işimize yaramayacağını düşündüğüm verileri çıkarıyorum.\n",
    "\n",
    "post_uk.drop([\"London zone\", \"National Park\", \"Easting\", \"Northing\", \"Parish\", \"Population\", \"Built up area\",\n",
    "          \"Built up sub-division\", \"Altitude\", \"LSOA Code\", \"Local authority\", \"MSOA Code\",\n",
    "           \"Parish Code\", \"Census output area\", \"Index of Multiple Deprivation\", \"Distance to station\",\n",
    "           \"Nearest station\", \"Water company\", \"Plus Code\", \"Sewage Company\", \"UPRNs\", \"Distance to sea\", \"Terminated\"\n",
    "          ], axis = 1, inplace = True)"
   ]
  },
  {
   "cell_type": "code",
   "execution_count": 24,
   "id": "52f1470c-0abb-4d08-912d-eb62773f676e",
   "metadata": {},
   "outputs": [
    {
     "data": {
      "text/plain": [
       "(2670704, 30)"
      ]
     },
     "execution_count": 24,
     "metadata": {},
     "output_type": "execute_result"
    }
   ],
   "source": [
    "post_uk.shape"
   ]
  },
  {
   "cell_type": "code",
   "execution_count": 25,
   "id": "2081eed0-acea-44c9-b81d-d8eb20664690",
   "metadata": {},
   "outputs": [
    {
     "data": {
      "text/plain": [
       "0"
      ]
     },
     "execution_count": 25,
     "metadata": {},
     "output_type": "execute_result"
    }
   ],
   "source": [
    "# Posta kodları olması gerektiği gibi düzgün\n",
    "(post_uk['Postcode'].str.contains(' ') == False).sum()"
   ]
  },
  {
   "cell_type": "code",
   "execution_count": 26,
   "id": "5bc7593a-fc20-4228-834b-728caf34743a",
   "metadata": {},
   "outputs": [],
   "source": [
    "# iki datayı eşleştiriyoruz.\n",
    "merged_post_code = pd.merge(satislar_pcode, post_uk, on=\"Postcode\", how='left')"
   ]
  },
  {
   "cell_type": "code",
   "execution_count": 27,
   "id": "93074426-e9ae-48e0-9372-da135bd14d7a",
   "metadata": {
    "tags": []
   },
   "outputs": [
    {
     "data": {
      "text/plain": [
       "(39086, 30)"
      ]
     },
     "execution_count": 27,
     "metadata": {},
     "output_type": "execute_result"
    }
   ],
   "source": [
    "merged_post_code.shape"
   ]
  },
  {
   "cell_type": "code",
   "execution_count": 28,
   "id": "0ed3e3ad-733e-440d-8a95-932e381f5dd5",
   "metadata": {},
   "outputs": [
    {
     "data": {
      "text/plain": [
       "Postcode                             0\n",
       "In Use?                            104\n",
       "Latitude                           104\n",
       "Longitude                          104\n",
       "Grid Ref                           105\n",
       "County                            3621\n",
       "District                           105\n",
       "Ward                               105\n",
       "District Code                      105\n",
       "Ward Code                          105\n",
       "Country                            104\n",
       "County Code                        105\n",
       "Constituency                       105\n",
       "Introduced                         104\n",
       "Households                        3900\n",
       "Lower layer super output area      105\n",
       "Rural/urban                        553\n",
       "Region                             104\n",
       "Middle layer super output area     105\n",
       "Constituency Code                  105\n",
       "Quality                            104\n",
       "User Type                          104\n",
       "Last updated                       104\n",
       "Postcode area                      104\n",
       "Postcode district                  104\n",
       "Police force                       105\n",
       "Average Income                    3621\n",
       "Travel To Work Area                105\n",
       "ITL level 2                        105\n",
       "ITL level 3                        105\n",
       "dtype: int64"
      ]
     },
     "execution_count": 28,
     "metadata": {},
     "output_type": "execute_result"
    }
   ],
   "source": [
    "merged_post_code.isnull().sum()"
   ]
  },
  {
   "cell_type": "code",
   "execution_count": 30,
   "id": "e6b6566e-bdb5-471f-86bc-673ffbc8a733",
   "metadata": {},
   "outputs": [
    {
     "data": {
      "text/plain": [
       "False    38982\n",
       "True       104\n",
       "Name: In Use?, dtype: int64"
      ]
     },
     "execution_count": 30,
     "metadata": {},
     "output_type": "execute_result"
    }
   ],
   "source": [
    "(merged_post_code[\"In Use?\"].isnull()==True).value_counts()"
   ]
  },
  {
   "cell_type": "code",
   "execution_count": 36,
   "id": "1ffa6410-9999-4dcb-ac20-94a05770f6ae",
   "metadata": {
    "tags": []
   },
   "outputs": [],
   "source": [
    "Incorrect_postal_codes = merged_post_code[merged_post_code[\"In Use?\"].isnull()==True].index.tolist()"
   ]
  },
  {
   "cell_type": "code",
   "execution_count": 37,
   "id": "fe1192b0-89fd-4977-a814-5a5cdf070ce8",
   "metadata": {
    "collapsed": true,
    "jupyter": {
     "outputs_hidden": true
    },
    "tags": []
   },
   "outputs": [
    {
     "name": "stdout",
     "output_type": "stream",
     "text": [
      "Postcode    DN15 0QU\n",
      "Name: 742, dtype: object\n",
      "Postcode    B71 8QT\n",
      "Name: 1588, dtype: object\n",
      "Postcode    B71 8QT\n",
      "Name: 1592, dtype: object\n",
      "Postcode    JE3 8FS\n",
      "Name: 4474, dtype: object\n",
      "Postcode    IM5 3BJ\n",
      "Name: 5442, dtype: object\n",
      "Postcode    JE2 7UD\n",
      "Name: 30264, dtype: object\n",
      "Postcode    GY4 6SR\n",
      "Name: 34762, dtype: object\n",
      "Postcode    LL16 9HF\n",
      "Name: 39380, dtype: object\n",
      "Postcode    LL16 9HF\n",
      "Name: 55744, dtype: object\n",
      "Postcode    BN42 2HR\n",
      "Name: 56458, dtype: object\n",
      "Postcode    B72 5BN\n",
      "Name: 68524, dtype: object\n",
      "Postcode    IM7 5AS\n",
      "Name: 69970, dtype: object\n",
      "Postcode    WV15 7AL\n",
      "Name: 78800, dtype: object\n",
      "Postcode    GY2 4EX\n",
      "Name: 80364, dtype: object\n",
      "Postcode    GY1 1GA\n",
      "Name: 96192, dtype: object\n",
      "Postcode    GY6 8BZ\n",
      "Name: 98484, dtype: object\n",
      "Postcode    NG15- 7QA\n",
      "Name: 99352, dtype: object\n",
      "Postcode    LL16 9HF\n",
      "Name: 103606, dtype: object\n",
      "Postcode    TQ9 0NH\n",
      "Name: 112024, dtype: object\n",
      "Postcode    JE3 7AS\n",
      "Name: 122254, dtype: object\n",
      "Postcode    GY1 1QJ\n",
      "Name: 142380, dtype: object\n",
      "Postcode    B14- 4DR\n",
      "Name: 144188, dtype: object\n",
      "Postcode    LL16 9HF\n",
      "Name: 148756, dtype: object\n",
      "Postcode    IM2 6BB\n",
      "Name: 160080, dtype: object\n",
      "Postcode    PR3 ORL\n",
      "Name: 160906, dtype: object\n",
      "Postcode    IM7 2AP\n",
      "Name: 175960, dtype: object\n",
      "Postcode    GY1 1RG\n",
      "Name: 180292, dtype: object\n",
      "Postcode    YO3O 6HL\n",
      "Name: 189354, dtype: object\n"
     ]
    }
   ],
   "source": [
    "# Buradaki posta kodlarında harf hataları var. Mesela 0 yerine O yazılanlar vb.. farklı hatalar mevcut. \n",
    "# Bu nedenle düzenleme yapılması gerekiyor ancak her değerin teker teker kontrol edilmesi gerekiyor bu işlem çok zaman alacak \n",
    "# toplamda 104 satırı ilgilendiren bir durum söz konusu datanın geneline bir zararı olmayacağı düşüncesiyle bunları bu şekilde bırakıyorum.\n",
    "for i in Incorrect_postal_codes:\n",
    "    if i in satislar_pcode.index:\n",
    "        print(satislar_pcode.iloc[i])"
   ]
  },
  {
   "cell_type": "code",
   "execution_count": 38,
   "id": "1d42a1c3-7990-48ab-87d4-0d8b3a6f71c5",
   "metadata": {},
   "outputs": [
    {
     "data": {
      "text/html": [
       "<div>\n",
       "<style scoped>\n",
       "    .dataframe tbody tr th:only-of-type {\n",
       "        vertical-align: middle;\n",
       "    }\n",
       "\n",
       "    .dataframe tbody tr th {\n",
       "        vertical-align: top;\n",
       "    }\n",
       "\n",
       "    .dataframe thead th {\n",
       "        text-align: right;\n",
       "    }\n",
       "</style>\n",
       "<table border=\"1\" class=\"dataframe\">\n",
       "  <thead>\n",
       "    <tr style=\"text-align: right;\">\n",
       "      <th></th>\n",
       "      <th>Postcode</th>\n",
       "      <th>In Use?</th>\n",
       "      <th>Latitude</th>\n",
       "      <th>Longitude</th>\n",
       "      <th>Grid Ref</th>\n",
       "      <th>County</th>\n",
       "      <th>District</th>\n",
       "      <th>Ward</th>\n",
       "      <th>District Code</th>\n",
       "      <th>Ward Code</th>\n",
       "      <th>...</th>\n",
       "      <th>Quality</th>\n",
       "      <th>User Type</th>\n",
       "      <th>Last updated</th>\n",
       "      <th>Postcode area</th>\n",
       "      <th>Postcode district</th>\n",
       "      <th>Police force</th>\n",
       "      <th>Average Income</th>\n",
       "      <th>Travel To Work Area</th>\n",
       "      <th>ITL level 2</th>\n",
       "      <th>ITL level 3</th>\n",
       "    </tr>\n",
       "  </thead>\n",
       "  <tbody>\n",
       "    <tr>\n",
       "      <th>0</th>\n",
       "      <td>OL13 8BT</td>\n",
       "      <td>Yes</td>\n",
       "      <td>53.727782</td>\n",
       "      <td>-2.195633</td>\n",
       "      <td>SD871257</td>\n",
       "      <td>Lancashire</td>\n",
       "      <td>Rossendale</td>\n",
       "      <td>Greensclough</td>\n",
       "      <td>E07000125</td>\n",
       "      <td>E05005321</td>\n",
       "      <td>...</td>\n",
       "      <td>1.0</td>\n",
       "      <td>0.0</td>\n",
       "      <td>2022-11-26</td>\n",
       "      <td>OL</td>\n",
       "      <td>OL13</td>\n",
       "      <td>Lancashire</td>\n",
       "      <td>35900.0</td>\n",
       "      <td>Blackburn</td>\n",
       "      <td>Lancashire</td>\n",
       "      <td>East Lancashire</td>\n",
       "    </tr>\n",
       "    <tr>\n",
       "      <th>1</th>\n",
       "      <td>DA1 5WW</td>\n",
       "      <td>Yes</td>\n",
       "      <td>51.448165</td>\n",
       "      <td>0.220005</td>\n",
       "      <td>TQ543744</td>\n",
       "      <td>Kent</td>\n",
       "      <td>Dartford</td>\n",
       "      <td>Town</td>\n",
       "      <td>E07000107</td>\n",
       "      <td>E05012409</td>\n",
       "      <td>...</td>\n",
       "      <td>1.0</td>\n",
       "      <td>0.0</td>\n",
       "      <td>2022-11-25</td>\n",
       "      <td>DA</td>\n",
       "      <td>DA1</td>\n",
       "      <td>Kent</td>\n",
       "      <td>52800.0</td>\n",
       "      <td>London</td>\n",
       "      <td>Kent</td>\n",
       "      <td>Kent Thames Gateway</td>\n",
       "    </tr>\n",
       "    <tr>\n",
       "      <th>2</th>\n",
       "      <td>W3 6TD</td>\n",
       "      <td>Yes</td>\n",
       "      <td>51.520727</td>\n",
       "      <td>-0.259227</td>\n",
       "      <td>TQ208816</td>\n",
       "      <td>Greater London</td>\n",
       "      <td>Ealing</td>\n",
       "      <td>North Acton</td>\n",
       "      <td>E09000009</td>\n",
       "      <td>E05013527</td>\n",
       "      <td>...</td>\n",
       "      <td>1.0</td>\n",
       "      <td>0.0</td>\n",
       "      <td>2022-11-26</td>\n",
       "      <td>W</td>\n",
       "      <td>W3</td>\n",
       "      <td>Metropolitan Police</td>\n",
       "      <td>51800.0</td>\n",
       "      <td>London</td>\n",
       "      <td>Outer London - West and North West</td>\n",
       "      <td>Ealing</td>\n",
       "    </tr>\n",
       "    <tr>\n",
       "      <th>3</th>\n",
       "      <td>BD23 2NP</td>\n",
       "      <td>Yes</td>\n",
       "      <td>53.956871</td>\n",
       "      <td>-2.017139</td>\n",
       "      <td>SD989511</td>\n",
       "      <td>North Yorkshire</td>\n",
       "      <td>Craven</td>\n",
       "      <td>Skipton West</td>\n",
       "      <td>E07000163</td>\n",
       "      <td>E05009669</td>\n",
       "      <td>...</td>\n",
       "      <td>1.0</td>\n",
       "      <td>0.0</td>\n",
       "      <td>2022-11-25</td>\n",
       "      <td>BD</td>\n",
       "      <td>BD23</td>\n",
       "      <td>North Yorkshire</td>\n",
       "      <td>38600.0</td>\n",
       "      <td>Skipton</td>\n",
       "      <td>North Yorkshire</td>\n",
       "      <td>North Yorkshire CC</td>\n",
       "    </tr>\n",
       "    <tr>\n",
       "      <th>4</th>\n",
       "      <td>NE13 7FJ</td>\n",
       "      <td>Yes</td>\n",
       "      <td>55.052837</td>\n",
       "      <td>-1.681323</td>\n",
       "      <td>NZ204731</td>\n",
       "      <td>Tyne and Wear</td>\n",
       "      <td>Newcastle upon Tyne</td>\n",
       "      <td>Castle</td>\n",
       "      <td>E08000021</td>\n",
       "      <td>E05011441</td>\n",
       "      <td>...</td>\n",
       "      <td>1.0</td>\n",
       "      <td>0.0</td>\n",
       "      <td>2022-11-25</td>\n",
       "      <td>NE</td>\n",
       "      <td>NE13</td>\n",
       "      <td>Northumbria</td>\n",
       "      <td>40100.0</td>\n",
       "      <td>Newcastle</td>\n",
       "      <td>Northumberland, and Tyne and Wear</td>\n",
       "      <td>Tyneside</td>\n",
       "    </tr>\n",
       "  </tbody>\n",
       "</table>\n",
       "<p>5 rows × 30 columns</p>\n",
       "</div>"
      ],
      "text/plain": [
       "   Postcode In Use?   Latitude  Longitude  Grid Ref           County  \\\n",
       "0  OL13 8BT     Yes  53.727782  -2.195633  SD871257       Lancashire   \n",
       "1   DA1 5WW     Yes  51.448165   0.220005  TQ543744             Kent   \n",
       "2    W3 6TD     Yes  51.520727  -0.259227  TQ208816   Greater London   \n",
       "3  BD23 2NP     Yes  53.956871  -2.017139  SD989511  North Yorkshire   \n",
       "4  NE13 7FJ     Yes  55.052837  -1.681323  NZ204731    Tyne and Wear   \n",
       "\n",
       "              District          Ward District Code  Ward Code  ... Quality  \\\n",
       "0           Rossendale  Greensclough     E07000125  E05005321  ...     1.0   \n",
       "1             Dartford          Town     E07000107  E05012409  ...     1.0   \n",
       "2               Ealing   North Acton     E09000009  E05013527  ...     1.0   \n",
       "3               Craven  Skipton West     E07000163  E05009669  ...     1.0   \n",
       "4  Newcastle upon Tyne        Castle     E08000021  E05011441  ...     1.0   \n",
       "\n",
       "  User Type Last updated Postcode area  Postcode district  \\\n",
       "0       0.0   2022-11-26            OL               OL13   \n",
       "1       0.0   2022-11-25            DA                DA1   \n",
       "2       0.0   2022-11-26             W                 W3   \n",
       "3       0.0   2022-11-25            BD               BD23   \n",
       "4       0.0   2022-11-25            NE               NE13   \n",
       "\n",
       "          Police force Average Income Travel To Work Area  \\\n",
       "0           Lancashire        35900.0           Blackburn   \n",
       "1                 Kent        52800.0              London   \n",
       "2  Metropolitan Police        51800.0              London   \n",
       "3      North Yorkshire        38600.0             Skipton   \n",
       "4          Northumbria        40100.0           Newcastle   \n",
       "\n",
       "                          ITL level 2          ITL level 3  \n",
       "0                          Lancashire      East Lancashire  \n",
       "1                                Kent  Kent Thames Gateway  \n",
       "2  Outer London - West and North West               Ealing  \n",
       "3                     North Yorkshire   North Yorkshire CC  \n",
       "4   Northumberland, and Tyne and Wear             Tyneside  \n",
       "\n",
       "[5 rows x 30 columns]"
      ]
     },
     "execution_count": 38,
     "metadata": {},
     "output_type": "execute_result"
    }
   ],
   "source": [
    "merged_post_code.head()"
   ]
  },
  {
   "cell_type": "code",
   "execution_count": 39,
   "id": "25c20e3f-c522-4134-abca-155846c08f20",
   "metadata": {},
   "outputs": [
    {
     "data": {
      "text/plain": [
       "Urban city and town                                        15610\n",
       "Urban major conurbation                                    11351\n",
       "Rural town and fringe                                       3499\n",
       "Rural village                                               2036\n",
       "Rural hamlet and isolated dwellings                         1366\n",
       "Large urban area                                            1098\n",
       "Urban minor conurbation                                      948\n",
       "Other urban area                                             931\n",
       "NaN                                                          553\n",
       "Accessible rural area                                        490\n",
       "Accessible small town                                        254\n",
       "Rural town and fringe in a sparse setting                    207\n",
       "Rural village in a sparse setting                            191\n",
       "Rural hamlet and isolated dwellings in a sparse setting      156\n",
       "Remote rural area                                            133\n",
       "Urban city and town in a sparse setting                      101\n",
       "Very remote rural area                                        76\n",
       "Remote small town                                             61\n",
       "Very remote small town                                        25\n",
       "Name: Rural/urban, dtype: int64"
      ]
     },
     "execution_count": 39,
     "metadata": {},
     "output_type": "execute_result"
    }
   ],
   "source": [
    "merged_post_code[\"Rural/urban\"].value_counts(dropna=False)"
   ]
  },
  {
   "cell_type": "code",
   "execution_count": 40,
   "id": "35b0e9b2-ff13-421a-b5ae-eff5add9f366",
   "metadata": {},
   "outputs": [
    {
     "data": {
      "text/plain": [
       "43857.00267869731"
      ]
     },
     "execution_count": 40,
     "metadata": {},
     "output_type": "execute_result"
    }
   ],
   "source": [
    "merged_post_code[\"Average Income\"].mean()"
   ]
  },
  {
   "cell_type": "code",
   "execution_count": 41,
   "id": "4b4b4668-62ce-453d-aeda-1fcceec9ca1a",
   "metadata": {
    "tags": []
   },
   "outputs": [
    {
     "data": {
      "text/plain": [
       "Greater London              5343\n",
       "West Midlands               1490\n",
       "Greater Manchester          1468\n",
       "Essex                       1335\n",
       "Kent                        1214\n",
       "Hampshire                   1131\n",
       "West Yorkshire              1100\n",
       "Merseyside                   841\n",
       "Surrey                       820\n",
       "Lancashire                   813\n",
       "Hertfordshire                754\n",
       "Staffordshire                723\n",
       "Devon                        721\n",
       "Lincolnshire                 698\n",
       "South Yorkshire              674\n",
       "Cheshire                     671\n",
       "North Yorkshire              652\n",
       "Nottinghamshire              641\n",
       "Leicestershire               614\n",
       "Tyne and Wear                605\n",
       "West Sussex                  602\n",
       "County Durham                589\n",
       "Berkshire                    573\n",
       "Cambridgeshire               572\n",
       "East Sussex                  567\n",
       "Derbyshire                   562\n",
       "Gloucestershire              547\n",
       "Norfolk                      544\n",
       "Somerset                     542\n",
       "Buckinghamshire              525\n",
       "Northamptonshire             503\n",
       "Suffolk                      493\n",
       "Gwent                        492\n",
       "Dorset                       481\n",
       "Oxfordshire                  426\n",
       "Wiltshire                    417\n",
       "Bedfordshire                 397\n",
       "Cornwall                     387\n",
       "East Riding of Yorkshire     357\n",
       "Mid Glamorgan                357\n",
       "Warwickshire                 349\n",
       "Worcestershire               345\n",
       "Shropshire                   316\n",
       "Clwyd                        296\n",
       "West Glamorgan               292\n",
       "Dyfed                        273\n",
       "South Glamorgan              242\n",
       "Cumbria                      237\n",
       "Bristol                      235\n",
       "Northumberland               197\n",
       "Gwynedd                      154\n",
       "Herefordshire                121\n",
       "Powys                         81\n",
       "Isle of Wight                 53\n",
       "Rutland                       22\n",
       "City of London                11\n",
       "Name: County, dtype: int64"
      ]
     },
     "execution_count": 41,
     "metadata": {},
     "output_type": "execute_result"
    }
   ],
   "source": [
    "merged_post_code.County.value_counts()"
   ]
  },
  {
   "cell_type": "code",
   "execution_count": 42,
   "id": "b973178b-2ca3-4e45-89a3-f4652fe82159",
   "metadata": {},
   "outputs": [
    {
     "data": {
      "text/plain": [
       "0.0    38878\n",
       "1.0      104\n",
       "Name: User Type, dtype: int64"
      ]
     },
     "execution_count": 42,
     "metadata": {},
     "output_type": "execute_result"
    }
   ],
   "source": [
    "merged_post_code[\"User Type\"].value_counts()"
   ]
  },
  {
   "cell_type": "code",
   "execution_count": 44,
   "id": "d4cec760-1dc5-4779-bb07-29c8b18432ae",
   "metadata": {},
   "outputs": [
    {
     "data": {
      "text/plain": [
       "County\n",
       "Bedfordshire                31.581325\n",
       "Berkshire                   30.925553\n",
       "Bristol                     25.401826\n",
       "Buckinghamshire             26.469957\n",
       "Cambridgeshire              30.379921\n",
       "Cheshire                    29.345178\n",
       "City of London              31.500000\n",
       "Clwyd                       25.291815\n",
       "Cornwall                    25.275482\n",
       "County Durham               28.423698\n",
       "Cumbria                     30.135747\n",
       "Derbyshire                  31.202020\n",
       "Devon                       26.456731\n",
       "Dorset                      27.217865\n",
       "Dyfed                       23.505703\n",
       "East Riding of Yorkshire    33.063830\n",
       "East Sussex                 30.009328\n",
       "Essex                       27.947761\n",
       "Gloucestershire             26.889610\n",
       "Greater London              35.083859\n",
       "Greater Manchester          28.416792\n",
       "Gwent                       28.143488\n",
       "Gwynedd                     22.317568\n",
       "Hampshire                   28.269347\n",
       "Herefordshire               25.428571\n",
       "Hertfordshire               26.886981\n",
       "Isle of Wight               24.673469\n",
       "Kent                        28.095941\n",
       "Lancashire                  30.899866\n",
       "Leicestershire              31.213358\n",
       "Lincolnshire                26.865854\n",
       "Merseyside                  28.668361\n",
       "Mid Glamorgan               31.725146\n",
       "Norfolk                     27.857143\n",
       "North Yorkshire             25.485714\n",
       "Northamptonshire            32.827506\n",
       "Northumberland              26.165746\n",
       "Nottinghamshire             29.610435\n",
       "Oxfordshire                 26.384384\n",
       "Powys                       27.355263\n",
       "Rutland                     17.409091\n",
       "Shropshire                  23.643123\n",
       "Somerset                    22.818750\n",
       "South Glamorgan             30.705357\n",
       "South Yorkshire             29.223114\n",
       "Staffordshire               28.973643\n",
       "Suffolk                     26.079470\n",
       "Surrey                      24.496032\n",
       "Tyne and Wear               29.370705\n",
       "Warwickshire                28.536332\n",
       "West Glamorgan              30.414286\n",
       "West Midlands               31.517538\n",
       "West Sussex                 27.167300\n",
       "West Yorkshire              27.704658\n",
       "Wiltshire                   27.100000\n",
       "Worcestershire              30.022876\n",
       "Name: Households, dtype: float64"
      ]
     },
     "execution_count": 44,
     "metadata": {},
     "output_type": "execute_result"
    }
   ],
   "source": [
    "merged_post_code.groupby(\"County\").Households.mean()"
   ]
  },
  {
   "cell_type": "code",
   "execution_count": null,
   "id": "d0c0933f-1278-4b6e-a88f-9bb92bd4063a",
   "metadata": {},
   "outputs": [],
   "source": []
  },
  {
   "cell_type": "code",
   "execution_count": 45,
   "id": "d93642ab-5fac-4619-95f6-f9c421525ba7",
   "metadata": {},
   "outputs": [],
   "source": [
    "merged_post_code.to_csv(\"post_code_analysis.csv\", index = False)"
   ]
  },
  {
   "cell_type": "code",
   "execution_count": null,
   "id": "7f01f4cf-4a5c-45ed-8793-ac16cdfae5f1",
   "metadata": {},
   "outputs": [],
   "source": []
  }
 ],
 "metadata": {
  "kernelspec": {
   "display_name": "Python 3 (ipykernel)",
   "language": "python",
   "name": "python3"
  },
  "language_info": {
   "codemirror_mode": {
    "name": "ipython",
    "version": 3
   },
   "file_extension": ".py",
   "mimetype": "text/x-python",
   "name": "python",
   "nbconvert_exporter": "python",
   "pygments_lexer": "ipython3",
   "version": "3.9.15"
  }
 },
 "nbformat": 4,
 "nbformat_minor": 5
}
